{
 "cells": [
  {
   "cell_type": "code",
   "execution_count": 1,
   "id": "0d750448-e07d-4b5b-b8ab-a8aaf441f30a",
   "metadata": {},
   "outputs": [
    {
     "data": {
      "text/plain": [
       "['/Users/oo/Desktop/5.Learning/python_packages_modules',\n",
       " '/Users/oo/opt/anaconda3/envs/QGIS/share/qgis/python/plugins',\n",
       " '/Users/oo/opt/anaconda3/envs/QGIS/share/qgis/python',\n",
       " '/Users/oo/Desktop/5.Learning/python_packages_modules',\n",
       " '/Users/oo/opt/anaconda3/envs/QGIS/lib/python37.zip',\n",
       " '/Users/oo/opt/anaconda3/envs/QGIS/lib/python3.7',\n",
       " '/Users/oo/opt/anaconda3/envs/QGIS/lib/python3.7/lib-dynload',\n",
       " '',\n",
       " '/Users/oo/opt/anaconda3/envs/QGIS/lib/python3.7/site-packages',\n",
       " '/Users/oo/opt/anaconda3/envs/QGIS/lib/python3.7/site-packages/IPython/extensions',\n",
       " '/Users/oo/.ipython']"
      ]
     },
     "execution_count": 1,
     "metadata": {},
     "output_type": "execute_result"
    }
   ],
   "source": [
    "import sys\n",
    "sys.path"
   ]
  },
  {
   "cell_type": "code",
   "execution_count": null,
   "id": "1a9ed8ba-0246-49b2-a7d6-42e9a34c78fc",
   "metadata": {},
   "outputs": [],
   "source": []
  }
 ],
 "metadata": {
  "kernelspec": {
   "display_name": "Python 3 (ipykernel)",
   "language": "python",
   "name": "python3"
  },
  "language_info": {
   "codemirror_mode": {
    "name": "ipython",
    "version": 3
   },
   "file_extension": ".py",
   "mimetype": "text/x-python",
   "name": "python",
   "nbconvert_exporter": "python",
   "pygments_lexer": "ipython3",
   "version": "3.7.11"
  }
 },
 "nbformat": 4,
 "nbformat_minor": 5
}
